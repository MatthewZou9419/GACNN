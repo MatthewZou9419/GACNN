{
 "cells": [
  {
   "cell_type": "code",
   "execution_count": 1,
   "metadata": {},
   "outputs": [],
   "source": [
    "import pandas as pd\n",
    "import matplotlib.pyplot as plt"
   ]
  },
  {
   "cell_type": "markdown",
   "metadata": {},
   "source": [
    "# GACNN"
   ]
  },
  {
   "cell_type": "code",
   "execution_count": 2,
   "metadata": {},
   "outputs": [
    {
     "data": {
      "text/html": [
       "<div>\n",
       "<style scoped>\n",
       "    .dataframe tbody tr th:only-of-type {\n",
       "        vertical-align: middle;\n",
       "    }\n",
       "\n",
       "    .dataframe tbody tr th {\n",
       "        vertical-align: top;\n",
       "    }\n",
       "\n",
       "    .dataframe thead th {\n",
       "        text-align: right;\n",
       "    }\n",
       "</style>\n",
       "<table border=\"1\" class=\"dataframe\">\n",
       "  <thead>\n",
       "    <tr style=\"text-align: right;\">\n",
       "      <th></th>\n",
       "      <th>best_pop</th>\n",
       "      <th>best_loss</th>\n",
       "      <th>best_acc</th>\n",
       "      <th>avg_fitness</th>\n",
       "    </tr>\n",
       "  </thead>\n",
       "  <tbody>\n",
       "    <tr>\n",
       "      <th>1</th>\n",
       "      <td>15.0</td>\n",
       "      <td>2.3024</td>\n",
       "      <td>0.1204</td>\n",
       "      <td>0.0958</td>\n",
       "    </tr>\n",
       "    <tr>\n",
       "      <th>2</th>\n",
       "      <td>15.0</td>\n",
       "      <td>2.3023</td>\n",
       "      <td>0.1270</td>\n",
       "      <td>0.0976</td>\n",
       "    </tr>\n",
       "    <tr>\n",
       "      <th>3</th>\n",
       "      <td>15.0</td>\n",
       "      <td>2.3025</td>\n",
       "      <td>0.1244</td>\n",
       "      <td>0.0966</td>\n",
       "    </tr>\n",
       "    <tr>\n",
       "      <th>4</th>\n",
       "      <td>15.0</td>\n",
       "      <td>2.3019</td>\n",
       "      <td>0.1182</td>\n",
       "      <td>0.0989</td>\n",
       "    </tr>\n",
       "    <tr>\n",
       "      <th>5</th>\n",
       "      <td>15.0</td>\n",
       "      <td>2.3025</td>\n",
       "      <td>0.1212</td>\n",
       "      <td>0.0978</td>\n",
       "    </tr>\n",
       "    <tr>\n",
       "      <th>6</th>\n",
       "      <td>15.0</td>\n",
       "      <td>2.3026</td>\n",
       "      <td>0.1184</td>\n",
       "      <td>0.0990</td>\n",
       "    </tr>\n",
       "    <tr>\n",
       "      <th>7</th>\n",
       "      <td>15.0</td>\n",
       "      <td>2.3029</td>\n",
       "      <td>0.1184</td>\n",
       "      <td>0.1004</td>\n",
       "    </tr>\n",
       "    <tr>\n",
       "      <th>8</th>\n",
       "      <td>15.0</td>\n",
       "      <td>2.3027</td>\n",
       "      <td>0.1170</td>\n",
       "      <td>0.0991</td>\n",
       "    </tr>\n",
       "    <tr>\n",
       "      <th>9</th>\n",
       "      <td>3.0</td>\n",
       "      <td>2.3024</td>\n",
       "      <td>0.1184</td>\n",
       "      <td>0.0993</td>\n",
       "    </tr>\n",
       "    <tr>\n",
       "      <th>10</th>\n",
       "      <td>15.0</td>\n",
       "      <td>2.3027</td>\n",
       "      <td>0.1194</td>\n",
       "      <td>0.1003</td>\n",
       "    </tr>\n",
       "  </tbody>\n",
       "</table>\n",
       "</div>"
      ],
      "text/plain": [
       "    best_pop  best_loss  best_acc  avg_fitness\n",
       "1       15.0     2.3024    0.1204       0.0958\n",
       "2       15.0     2.3023    0.1270       0.0976\n",
       "3       15.0     2.3025    0.1244       0.0966\n",
       "4       15.0     2.3019    0.1182       0.0989\n",
       "5       15.0     2.3025    0.1212       0.0978\n",
       "6       15.0     2.3026    0.1184       0.0990\n",
       "7       15.0     2.3029    0.1184       0.1004\n",
       "8       15.0     2.3027    0.1170       0.0991\n",
       "9        3.0     2.3024    0.1184       0.0993\n",
       "10      15.0     2.3027    0.1194       0.1003"
      ]
     },
     "execution_count": 2,
     "metadata": {},
     "output_type": "execute_result"
    }
   ],
   "source": [
    "with open('D:\\Programs\\PycharmProjects\\GACNN\\SteadyStateGA_CIFAR10.txt', 'r') as f:\n",
    "    text = f.readlines()\n",
    "    cols = text[0].strip().split('\\t')\n",
    "    data = []\n",
    "    for row in text[1:]:\n",
    "        data.append(list(map(float, row.strip().split('\\t'))))\n",
    "        \n",
    "df = pd.DataFrame(data, columns=cols)\n",
    "df.index = list(map(int, df['iter']))\n",
    "del df['iter']\n",
    "df"
   ]
  },
  {
   "cell_type": "code",
   "execution_count": 3,
   "metadata": {},
   "outputs": [
    {
     "data": {
      "text/plain": [
       "Text(0.5, 0, 'iter')"
      ]
     },
     "execution_count": 3,
     "metadata": {},
     "output_type": "execute_result"
    },
    {
     "data": {
      "image/png": "[encoded data removed]",
      "text/plain": [
       "<Figure size 432x288 with 1 Axes>"
      ]
     },
     "metadata": {
      "needs_background": "light"
     },
     "output_type": "display_data"
    }
   ],
   "source": [
    "df[['best_acc']].plot(title='SteadyStateGA-CIFAR10')\n",
    "plt.xlabel('iter')"
   ]
  },
  {
   "cell_type": "markdown",
   "metadata": {},
   "source": [
    "# AdamCNN"
   ]
  },
  {
   "cell_type": "code",
   "execution_count": 4,
   "metadata": {},
   "outputs": [
    {
     "data": {
      "text/html": [
       "<div>\n",
       "<style scoped>\n",
       "    .dataframe tbody tr th:only-of-type {\n",
       "        vertical-align: middle;\n",
       "    }\n",
       "\n",
       "    .dataframe tbody tr th {\n",
       "        vertical-align: top;\n",
       "    }\n",
       "\n",
       "    .dataframe thead th {\n",
       "        text-align: right;\n",
       "    }\n",
       "</style>\n",
       "<table border=\"1\" class=\"dataframe\">\n",
       "  <thead>\n",
       "    <tr style=\"text-align: right;\">\n",
       "      <th></th>\n",
       "      <th>val_loss</th>\n",
       "      <th>val_accuracy</th>\n",
       "      <th>loss</th>\n",
       "      <th>accuracy</th>\n",
       "    </tr>\n",
       "  </thead>\n",
       "  <tbody>\n",
       "    <tr>\n",
       "      <th>1</th>\n",
       "      <td>0.9559</td>\n",
       "      <td>0.6797</td>\n",
       "      <td>1.1671</td>\n",
       "      <td>0.6082</td>\n",
       "    </tr>\n",
       "    <tr>\n",
       "      <th>2</th>\n",
       "      <td>0.9014</td>\n",
       "      <td>0.6958</td>\n",
       "      <td>0.9316</td>\n",
       "      <td>0.6888</td>\n",
       "    </tr>\n",
       "    <tr>\n",
       "      <th>3</th>\n",
       "      <td>0.8484</td>\n",
       "      <td>0.7153</td>\n",
       "      <td>0.8805</td>\n",
       "      <td>0.7022</td>\n",
       "    </tr>\n",
       "    <tr>\n",
       "      <th>4</th>\n",
       "      <td>0.8295</td>\n",
       "      <td>0.7192</td>\n",
       "      <td>0.8468</td>\n",
       "      <td>0.7150</td>\n",
       "    </tr>\n",
       "    <tr>\n",
       "      <th>5</th>\n",
       "      <td>0.8199</td>\n",
       "      <td>0.7141</td>\n",
       "      <td>0.8244</td>\n",
       "      <td>0.7201</td>\n",
       "    </tr>\n",
       "    <tr>\n",
       "      <th>6</th>\n",
       "      <td>0.8022</td>\n",
       "      <td>0.7309</td>\n",
       "      <td>0.8076</td>\n",
       "      <td>0.7274</td>\n",
       "    </tr>\n",
       "    <tr>\n",
       "      <th>7</th>\n",
       "      <td>0.7976</td>\n",
       "      <td>0.7224</td>\n",
       "      <td>0.7936</td>\n",
       "      <td>0.7306</td>\n",
       "    </tr>\n",
       "    <tr>\n",
       "      <th>8</th>\n",
       "      <td>0.7664</td>\n",
       "      <td>0.7401</td>\n",
       "      <td>0.7842</td>\n",
       "      <td>0.7326</td>\n",
       "    </tr>\n",
       "    <tr>\n",
       "      <th>9</th>\n",
       "      <td>0.7810</td>\n",
       "      <td>0.7282</td>\n",
       "      <td>0.7734</td>\n",
       "      <td>0.7355</td>\n",
       "    </tr>\n",
       "    <tr>\n",
       "      <th>10</th>\n",
       "      <td>0.7708</td>\n",
       "      <td>0.7385</td>\n",
       "      <td>0.7677</td>\n",
       "      <td>0.7371</td>\n",
       "    </tr>\n",
       "  </tbody>\n",
       "</table>\n",
       "</div>"
      ],
      "text/plain": [
       "    val_loss  val_accuracy    loss  accuracy\n",
       "1     0.9559        0.6797  1.1671    0.6082\n",
       "2     0.9014        0.6958  0.9316    0.6888\n",
       "3     0.8484        0.7153  0.8805    0.7022\n",
       "4     0.8295        0.7192  0.8468    0.7150\n",
       "5     0.8199        0.7141  0.8244    0.7201\n",
       "6     0.8022        0.7309  0.8076    0.7274\n",
       "7     0.7976        0.7224  0.7936    0.7306\n",
       "8     0.7664        0.7401  0.7842    0.7326\n",
       "9     0.7810        0.7282  0.7734    0.7355\n",
       "10    0.7708        0.7385  0.7677    0.7371"
      ]
     },
     "execution_count": 4,
     "metadata": {},
     "output_type": "execute_result"
    }
   ],
   "source": [
    "with open('GDCNN_MNIST.txt', 'r') as f:\n",
    "    text = f.readlines()\n",
    "    cols = text[0].strip().split('\\t')\n",
    "    data = []\n",
    "    for row in text[1:]:\n",
    "        data.append(list(map(float, row.strip().split('\\t'))))\n",
    "\n",
    "df = pd.DataFrame(data, columns=cols)\n",
    "df.index += 1\n",
    "df"
   ]
  },
  {
   "cell_type": "code",
   "execution_count": 6,
   "metadata": {},
   "outputs": [
    {
     "data": {
      "text/plain": [
       "Text(0.5, 0, 'epoch')"
      ]
     },
     "execution_count": 6,
     "metadata": {},
     "output_type": "execute_result"
    },
    {
     "data": {
      "image/png": "[encoded data removed]",
      "text/plain": [
       "<Figure size 432x288 with 1 Axes>"
      ]
     },
     "metadata": {
      "needs_background": "light"
     },
     "output_type": "display_data"
    }
   ],
   "source": [
    "df[['loss', 'val_loss']].plot(title='AdamCNN-MNIST-LOSS')\n",
    "plt.xlabel('epoch')"
   ]
  }
 ],
 "metadata": {
  "kernelspec": {
   "display_name": "Python 3",
   "language": "python",
   "name": "python3"
  },
  "language_info": {
   "codemirror_mode": {
    "name": "ipython",
    "version": 3
   },
   "file_extension": ".py",
   "mimetype": "text/x-python",
   "name": "python",
   "nbconvert_exporter": "python",
   "pygments_lexer": "ipython3",
   "version": "3.7.3"
  }
 },
 "nbformat": 4,
 "nbformat_minor": 2
}
